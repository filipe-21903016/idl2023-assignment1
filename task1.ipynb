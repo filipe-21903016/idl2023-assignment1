{
 "cells": [
  {
   "cell_type": "markdown",
   "id": "fd58ef47-5b4b-469a-ac53-75ecd64ef9a9",
   "metadata": {
    "tags": []
   },
   "source": [
    "# Task 1\n"
   ]
  },
  {
   "cell_type": "markdown",
   "id": "160f6a31-2ed1-472a-8c05-4b69317b6979",
   "metadata": {
    "tags": []
   },
   "source": [
    "## Objectives\n",
    "\n",
    "For dataset **Fashion MNIST**:\n",
    "\n",
    "1. Split training set into training and validation set (90-10)\n",
    "2. Apply the following networks:\n",
    "    - MLP (Ch.10, pp.354)\n",
    "    - CNN (Ch.14, p.447)\n",
    "3. Experiment with:\n",
    "    - Weight Initializations\n",
    "    - Activation Functions\n",
    "    - Try different optimizers\n",
    "    - Optimizing Hyperparameters (Keep the 3 best)\n",
    "    - Regularizations\n",
    "        - **L1**\n",
    "        - **L2**\n",
    "        - **Dropout**\n",
    "        - **No Dropout**\n",
    "4. Additionally experiment with,\n",
    "    - Adding/Removing layers to the network\n",
    "    - Number of filters\n",
    "    - Size of filters\n",
    "\n",
    "Train **CIFAR-10** to get a base-level performance.\n",
    "With the 3 best hyperparameters, train **CIFAR-10**.\n",
    "Check if performance gains translate to this dataset."
   ]
  },
  {
   "cell_type": "markdown",
   "id": "d9034381-80ba-47cf-bd88-5a71332cc38b",
   "metadata": {
    "tags": []
   },
   "source": [
    "## Implementation"
   ]
  },
  {
   "cell_type": "code",
   "execution_count": null,
   "id": "5c70210c-f3fd-40c8-b19a-cca3daec5b10",
   "metadata": {
    "tags": []
   },
   "outputs": [],
   "source": [
    "import tensorflow as tf\n",
    "import matplotlib.pyplot as plt\n",
    "import pandas as pd\n",
    "import numpy as np"
   ]
  },
  {
   "cell_type": "markdown",
   "id": "4f1f0ac6-e718-4485-8dcd-92b1de06cb95",
   "metadata": {
    "tags": []
   },
   "source": [
    "### Pre-processing dataset"
   ]
  },
  {
   "cell_type": "code",
   "execution_count": null,
   "id": "807cb97b-1599-4fe2-bf3f-4f351b896c84",
   "metadata": {
    "tags": []
   },
   "outputs": [],
   "source": [
    "fashion_mnist = tf.keras.datasets.fashion_mnist.load_data()\n",
    "(X_train_full, y_train_full), (X_test, y_test) = fashion_mnist\n",
    "X_train, y_train = X_train_full[:-5000], y_train_full[:-5000]\n",
    "X_valid, y_valid = X_train_full[-5000:], y_train_full[-5000:]"
   ]
  },
  {
   "cell_type": "code",
   "execution_count": null,
   "id": "2b7d6dd3-c1b3-4f37-b844-673e6b604a94",
   "metadata": {
    "tags": []
   },
   "outputs": [],
   "source": [
    "# Rescale pixel values to [0,1]\n",
    "X_train, X_valid, X_test = X_train / 255., X_valid / 255., X_test / 255."
   ]
  },
  {
   "cell_type": "code",
   "execution_count": null,
   "id": "5af51cbe-77ff-4fd2-9785-ba974a09e5bd",
   "metadata": {
    "tags": []
   },
   "outputs": [],
   "source": [
    "# Define the class names\n",
    "class_names = [\n",
    "    \"T-shirt/top\",\n",
    "    \"Trouser\",\n",
    "    \"Pullover\",\n",
    "    \"Dress\",\n",
    "    \"Coat\",\n",
    "    \"Sandal\",\n",
    "    \"Shirt\",\n",
    "    \"Sneaker\",\n",
    "    \"Bag\",\n",
    "    \"Ankle boot\"\n",
    "]"
   ]
  },
  {
   "cell_type": "markdown",
   "id": "866cae2d-541f-44f8-b6eb-edf4d841db01",
   "metadata": {},
   "source": [
    "### Base-level MLP"
   ]
  },
  {
   "cell_type": "code",
   "execution_count": null,
   "id": "d5c33962-a41f-42c9-997b-2bcb3b54f420",
   "metadata": {
    "tags": []
   },
   "outputs": [],
   "source": [
    "tf.random.set_seed(42)\n",
    "model = tf.keras.Sequential([\n",
    "    tf.keras.layers.Input(shape=[28,28]),\n",
    "    tf.keras.layers.Flatten(),\n",
    "    tf.keras.layers.Dense(300, activation=\"relu\"),\n",
    "    tf.keras.layers.Dense(100, activation=\"relu\"),\n",
    "    tf.keras.layers.Dense(10, activation=\"softmax\")\n",
    "])"
   ]
  },
  {
   "cell_type": "code",
   "execution_count": null,
   "id": "9442fa96-f064-4c17-be26-f89afaef63ce",
   "metadata": {
    "tags": []
   },
   "outputs": [],
   "source": [
    "model.compile(loss=\"sparse_categorical_crossentropy\",\n",
    "             optimizer=\"sgd\",\n",
    "             metrics=[\"accuracy\"])"
   ]
  },
  {
   "cell_type": "code",
   "execution_count": null,
   "id": "9dcadce1-8826-41e5-af32-7fe77c8efb64",
   "metadata": {
    "tags": []
   },
   "outputs": [],
   "source": [
    "history = model.fit(X_train, y_train, epochs=30, validation_data=(X_valid, y_valid))"
   ]
  },
  {
   "cell_type": "code",
   "execution_count": null,
   "id": "89ffebc2-e26c-41bb-9f07-6e15d76ccf9f",
   "metadata": {
    "tags": []
   },
   "outputs": [],
   "source": [
    "pd.DataFrame(history.history).plot(\n",
    "    figsize=(8,5),\n",
    "    xlim=[0,29],\n",
    "    ylim=[0,1],\n",
    "    grid=True,\n",
    "    xlabel=\"Epoch\",\n",
    "    style=[\"r--\", \"r--.\", \"b-\", \"b-*\"]\n",
    ")\n",
    "plt.show()"
   ]
  }
 ],
 "metadata": {
  "kernelspec": {
   "display_name": "Python 3 (ipykernel)",
   "language": "python",
   "name": "python3"
  },
  "language_info": {
   "codemirror_mode": {
    "name": "ipython",
    "version": 3
   },
   "file_extension": ".py",
   "mimetype": "text/x-python",
   "name": "python",
   "nbconvert_exporter": "python",
   "pygments_lexer": "ipython3",
   "version": "3.10.13"
  }
 },
 "nbformat": 4,
 "nbformat_minor": 5
}
