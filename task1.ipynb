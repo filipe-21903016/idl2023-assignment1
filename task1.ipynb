{
 "cells": [
  {
   "cell_type": "markdown",
   "id": "fd58ef47-5b4b-469a-ac53-75ecd64ef9a9",
   "metadata": {
    "id": "fd58ef47-5b4b-469a-ac53-75ecd64ef9a9"
   },
   "source": [
    "# Task 1\n",
    "\n"
   ]
  },
  {
   "cell_type": "markdown",
   "id": "160f6a31-2ed1-472a-8c05-4b69317b6979",
   "metadata": {
    "id": "160f6a31-2ed1-472a-8c05-4b69317b6979"
   },
   "source": [
    "## Objectives\n",
    "\n",
    "For dataset **Fashion MNIST**:\n",
    "\n",
    "1. Split training set into training and validation set (90-10)\n",
    "2. Experiment with:\n",
    "    - [x] Weight Initializations\n",
    "    - [x] Activation Functions\n",
    "    - [x] Try different optimizers\n",
    "    - [ ] Regularizations\n",
    "      - [x] **L1**\n",
    "      - [x] **L2**\n",
    "      - [x] **Dropout**\n",
    "    - [ ] Optimizing Hyperparameters (Keep the 3 best)\n",
    "   \n",
    "3. Additionally experiment with,\n",
    "    - [ ] Adding/Removing layers to the network\n",
    "    - [ ] Number of filters\n",
    "    - [ ] Size of filters\n",
    "\n",
    "Train **CIFAR-10** to get a base-level performance.\n",
    "With the 3 best hyperparameters, train **CIFAR-10**.\n",
    "Check if performance gains translate to this dataset."
   ]
  },
  {
   "cell_type": "markdown",
   "id": "020ce12d-5655-4aaa-b385-047a4817827f",
   "metadata": {},
   "source": [
    "## Notes\n",
    "\n",
    "Until the present moment the best Optimizer is SGD with Nesterov Momentum.\n",
    "Best weight initializer is default"
   ]
  },
  {
   "cell_type": "markdown",
   "id": "d9034381-80ba-47cf-bd88-5a71332cc38b",
   "metadata": {
    "id": "d9034381-80ba-47cf-bd88-5a71332cc38b"
   },
   "source": [
    "## Implementation"
   ]
  },
  {
   "cell_type": "code",
   "execution_count": 1,
   "id": "5c70210c-f3fd-40c8-b19a-cca3daec5b10",
   "metadata": {
    "id": "5c70210c-f3fd-40c8-b19a-cca3daec5b10"
   },
   "outputs": [],
   "source": [
    "import tensorflow as tf\n",
    "import matplotlib.pyplot as plt\n",
    "import pandas as pd\n",
    "import numpy as np"
   ]
  },
  {
   "cell_type": "markdown",
   "id": "4f1f0ac6-e718-4485-8dcd-92b1de06cb95",
   "metadata": {
    "id": "4f1f0ac6-e718-4485-8dcd-92b1de06cb95"
   },
   "source": [
    "### Pre-processing dataset"
   ]
  },
  {
   "cell_type": "code",
   "execution_count": 2,
   "id": "807cb97b-1599-4fe2-bf3f-4f351b896c84",
   "metadata": {
    "colab": {
     "base_uri": "https://localhost:8080/"
    },
    "id": "807cb97b-1599-4fe2-bf3f-4f351b896c84",
    "outputId": "81ed0b6f-1fb2-4c3c-8ad5-0e4c56071ec3"
   },
   "outputs": [],
   "source": [
    "fashion_mnist = tf.keras.datasets.fashion_mnist.load_data()\n",
    "(X_train_full, y_train_full), (X_test, y_test) = fashion_mnist\n",
    "X_train, y_train = X_train_full[:-5000], y_train_full[:-5000]\n",
    "X_valid, y_valid = X_train_full[-5000:], y_train_full[-5000:]"
   ]
  },
  {
   "cell_type": "code",
   "execution_count": 3,
   "id": "2b7d6dd3-c1b3-4f37-b844-673e6b604a94",
   "metadata": {
    "id": "2b7d6dd3-c1b3-4f37-b844-673e6b604a94"
   },
   "outputs": [],
   "source": [
    "# Rescale pixel values to [0,1]\n",
    "X_train, X_valid, X_test = X_train / 255., X_valid / 255., X_test / 255."
   ]
  },
  {
   "cell_type": "code",
   "execution_count": 4,
   "id": "5af51cbe-77ff-4fd2-9785-ba974a09e5bd",
   "metadata": {
    "id": "5af51cbe-77ff-4fd2-9785-ba974a09e5bd"
   },
   "outputs": [],
   "source": [
    "# Define the class names\n",
    "class_names = [\n",
    "    \"T-shirt/top\",\n",
    "    \"Trouser\",\n",
    "    \"Pullover\",\n",
    "    \"Dress\",\n",
    "    \"Coat\",\n",
    "    \"Sandal\",\n",
    "    \"Shirt\",\n",
    "    \"Sneaker\",\n",
    "    \"Bag\",\n",
    "    \"Ankle boot\"\n",
    "]"
   ]
  },
  {
   "cell_type": "markdown",
   "id": "866cae2d-541f-44f8-b6eb-edf4d841db01",
   "metadata": {
    "id": "866cae2d-541f-44f8-b6eb-edf4d841db01"
   },
   "source": [
    "### MLP: Base level"
   ]
  },
  {
   "cell_type": "markdown",
   "id": "XJnjy56T6DpB",
   "metadata": {
    "id": "XJnjy56T6DpB"
   },
   "source": [
    "#### Creating the model"
   ]
  },
  {
   "cell_type": "code",
   "execution_count": null,
   "id": "d5c33962-a41f-42c9-997b-2bcb3b54f420",
   "metadata": {
    "id": "d5c33962-a41f-42c9-997b-2bcb3b54f420",
    "scrolled": true
   },
   "outputs": [],
   "source": [
    "tf.random.set_seed(42)\n",
    "model = tf.keras.Sequential([\n",
    "    tf.keras.layers.Input(shape=[28,28]),\n",
    "    tf.keras.layers.Flatten(),\n",
    "    tf.keras.layers.Dense(300, activation=\"relu\"),\n",
    "    tf.keras.layers.Dense(100, activation=\"relu\"),\n",
    "    tf.keras.layers.Dense(10, activation=\"softmax\")\n",
    "])"
   ]
  },
  {
   "cell_type": "markdown",
   "id": "WdYVzldO6NcE",
   "metadata": {
    "id": "WdYVzldO6NcE"
   },
   "source": [
    "#### Compiling the model"
   ]
  },
  {
   "cell_type": "code",
   "execution_count": null,
   "id": "9442fa96-f064-4c17-be26-f89afaef63ce",
   "metadata": {
    "id": "9442fa96-f064-4c17-be26-f89afaef63ce"
   },
   "outputs": [],
   "source": [
    "model.compile(loss=\"sparse_categorical_crossentropy\",\n",
    "             optimizer=\"sgd\",\n",
    "             metrics=[\"accuracy\"])"
   ]
  },
  {
   "cell_type": "markdown",
   "id": "gOIkB3Kv6Uo5",
   "metadata": {
    "id": "gOIkB3Kv6Uo5"
   },
   "source": [
    "#### Training the model"
   ]
  },
  {
   "cell_type": "code",
   "execution_count": null,
   "id": "9dcadce1-8826-41e5-af32-7fe77c8efb64",
   "metadata": {
    "id": "9dcadce1-8826-41e5-af32-7fe77c8efb64",
    "scrolled": true
   },
   "outputs": [],
   "source": [
    "history = model.fit(X_train, y_train, epochs=30, validation_data=(X_valid, y_valid))"
   ]
  },
  {
   "cell_type": "markdown",
   "id": "6D74c1Hv6hv-",
   "metadata": {
    "id": "6D74c1Hv6hv-"
   },
   "source": [
    "#### Evaluating the model"
   ]
  },
  {
   "cell_type": "code",
   "execution_count": null,
   "id": "89ffebc2-e26c-41bb-9f07-6e15d76ccf9f",
   "metadata": {
    "colab": {
     "base_uri": "https://localhost:8080/",
     "height": 470
    },
    "id": "89ffebc2-e26c-41bb-9f07-6e15d76ccf9f",
    "outputId": "e1b800d3-148e-4ee0-e3c5-dba3d1ed79bb"
   },
   "outputs": [],
   "source": [
    "pd.DataFrame(history.history).plot(\n",
    "    figsize=(8,5),\n",
    "    xlim=[0,29],\n",
    "    ylim=[0,1],\n",
    "    grid=True,\n",
    "    xlabel=\"Epoch\",\n",
    "    style=[\"r--\", \"r--.\", \"b-\", \"b-*\"]\n",
    ")\n",
    "plt.show()"
   ]
  },
  {
   "cell_type": "code",
   "execution_count": null,
   "id": "l-KcgNTk45_D",
   "metadata": {
    "colab": {
     "base_uri": "https://localhost:8080/"
    },
    "id": "l-KcgNTk45_D",
    "outputId": "da18eba1-bc33-48a0-ce4d-def8a31e7e20"
   },
   "outputs": [],
   "source": [
    "model.evaluate(X_test, y_test)"
   ]
  },
  {
   "cell_type": "markdown",
   "id": "z6ZyZq8Q5YiV",
   "metadata": {
    "id": "z6ZyZq8Q5YiV"
   },
   "source": [
    "### MLP: Different Initilizers\n"
   ]
  },
  {
   "cell_type": "markdown",
   "id": "YGp2l-Nr52jf",
   "metadata": {
    "id": "YGp2l-Nr52jf",
    "jp-MarkdownHeadingCollapsed": true
   },
   "source": [
    "#### Normal Distribution Weight Initializer\n",
    "\n",
    "Initializer that generates tensors with a normal distribution."
   ]
  },
  {
   "cell_type": "code",
   "execution_count": null,
   "id": "c5peMAR_7T6B",
   "metadata": {
    "id": "c5peMAR_7T6B"
   },
   "outputs": [],
   "source": [
    "# Creating model\n",
    "model = tf.keras.Sequential([\n",
    "    tf.keras.layers.Input(shape=[28,28]),\n",
    "    tf.keras.layers.Flatten(),\n",
    "    tf.keras.layers.Dense(300, activation=\"relu\", kernel_initializer=\"random_normal\"),\n",
    "    tf.keras.layers.Dense(100, activation=\"relu\", kernel_initializer=\"random_normal\"),\n",
    "    tf.keras.layers.Dense(10, activation=\"softmax\", kernel_initializer=\"random_normal\")\n",
    "])\n",
    "\n",
    "# Compiling the model\n",
    "model.compile(loss=\"sparse_categorical_crossentropy\",\n",
    "             optimizer=\"sgd\",\n",
    "             metrics=[\"accuracy\"])"
   ]
  },
  {
   "cell_type": "code",
   "execution_count": null,
   "id": "iwvH4qPv8IOh",
   "metadata": {
    "id": "iwvH4qPv8IOh",
    "scrolled": true
   },
   "outputs": [],
   "source": [
    "# Training the model\n",
    "history = model.fit(X_train, y_train, epochs=30, validation_data=(X_valid, y_valid))"
   ]
  },
  {
   "cell_type": "code",
   "execution_count": null,
   "id": "tmfJ1OzK8N0D",
   "metadata": {
    "colab": {
     "base_uri": "https://localhost:8080/",
     "height": 504
    },
    "id": "tmfJ1OzK8N0D",
    "outputId": "ab6b18bf-8407-4c53-cd2e-c6337f4e04d6"
   },
   "outputs": [],
   "source": [
    "# Evaluate the model\n",
    "pd.DataFrame(history.history).plot(\n",
    "    figsize=(8,5),\n",
    "    xlim=[0,29],\n",
    "    ylim=[0,1],\n",
    "    grid=True,\n",
    "    xlabel=\"Epoch\",\n",
    "    style=[\"r--\", \"r--.\", \"b-\", \"b-*\"]\n",
    ")\n",
    "plt.show()\n",
    "\n",
    "model.evaluate(X_test, y_test)"
   ]
  },
  {
   "cell_type": "markdown",
   "id": "Ip8CmNr49XFK",
   "metadata": {
    "id": "Ip8CmNr49XFK",
    "jp-MarkdownHeadingCollapsed": true
   },
   "source": [
    "#### Uniform Distribution Weight Initializer\n",
    "\n",
    "Initializer that generates tensors with a uniform distribution."
   ]
  },
  {
   "cell_type": "code",
   "execution_count": null,
   "id": "WmxPW_c_9eZ7",
   "metadata": {
    "id": "WmxPW_c_9eZ7"
   },
   "outputs": [],
   "source": [
    "# Uniform Distribution Initiliazer [-0.5,0.5]\n",
    "initializer = tf.keras.initializers.RandomUniform(minval=-0.5, maxval=0.5, seed=42)\n",
    "\n",
    "# Creating model\n",
    "model = tf.keras.Sequential([\n",
    "    tf.keras.layers.Input(shape=[28,28]),\n",
    "    tf.keras.layers.Flatten(),\n",
    "    tf.keras.layers.Dense(300, activation=\"relu\", kernel_initializer=initializer),\n",
    "    tf.keras.layers.Dense(100, activation=\"relu\", kernel_initializer=initializer),\n",
    "    tf.keras.layers.Dense(10, activation=\"softmax\", kernel_initializer=initializer)\n",
    "])\n",
    "\n",
    "# Compiling the model\n",
    "model.compile(loss=\"sparse_categorical_crossentropy\",\n",
    "             optimizer=\"sgd\",\n",
    "             metrics=[\"accuracy\"])"
   ]
  },
  {
   "cell_type": "code",
   "execution_count": null,
   "id": "ZtoY5cNh-D9B",
   "metadata": {
    "id": "ZtoY5cNh-D9B",
    "scrolled": true
   },
   "outputs": [],
   "source": [
    "# Training the model\n",
    "history = model.fit(X_train, y_train, epochs=30, validation_data=(X_valid, y_valid))"
   ]
  },
  {
   "cell_type": "code",
   "execution_count": null,
   "id": "IiErlcTd-Ewo",
   "metadata": {
    "colab": {
     "base_uri": "https://localhost:8080/",
     "height": 504
    },
    "id": "IiErlcTd-Ewo",
    "outputId": "5fbff7c8-d5c0-4930-a578-2f4faeef9286"
   },
   "outputs": [],
   "source": [
    "# Evaluate the model\n",
    "pd.DataFrame(history.history).plot(\n",
    "    figsize=(8,5),\n",
    "    xlim=[0,29],\n",
    "    ylim=[0,1],\n",
    "    grid=True,\n",
    "    xlabel=\"Epoch\",\n",
    "    style=[\"r--\", \"r--.\", \"b-\", \"b-*\"]\n",
    ")\n",
    "plt.show()\n",
    "\n",
    "model.evaluate(X_test, y_test)"
   ]
  },
  {
   "cell_type": "markdown",
   "id": "Rp2opXUF_eKX",
   "metadata": {
    "id": "Rp2opXUF_eKX"
   },
   "source": [
    "### MLP: Different Activations\n"
   ]
  },
  {
   "cell_type": "markdown",
   "id": "6YJ4VEU4AGH1",
   "metadata": {
    "id": "6YJ4VEU4AGH1",
    "jp-MarkdownHeadingCollapsed": true
   },
   "source": [
    "#### Sigmoid Activation"
   ]
  },
  {
   "cell_type": "code",
   "execution_count": null,
   "id": "gnHxxYyfBKjy",
   "metadata": {
    "id": "gnHxxYyfBKjy"
   },
   "outputs": [],
   "source": [
    "# Creating model\n",
    "model = tf.keras.Sequential([\n",
    "    tf.keras.layers.Input(shape=[28,28]),\n",
    "    tf.keras.layers.Flatten(),\n",
    "    tf.keras.layers.Dense(300, activation=\"sigmoid\"),\n",
    "    tf.keras.layers.Dense(100, activation=\"sigmoid\"),\n",
    "    tf.keras.layers.Dense(10, activation=\"softmax\")\n",
    "])\n",
    "\n",
    "# Compiling the model\n",
    "model.compile(loss=\"sparse_categorical_crossentropy\",\n",
    "             optimizer=\"sgd\",\n",
    "             metrics=[\"accuracy\"])"
   ]
  },
  {
   "cell_type": "code",
   "execution_count": null,
   "id": "eveEgC6ABRr5",
   "metadata": {
    "id": "eveEgC6ABRr5"
   },
   "outputs": [],
   "source": [
    "# Training the model\n",
    "history = model.fit(X_train, y_train, epochs=30, validation_data=(X_valid, y_valid))"
   ]
  },
  {
   "cell_type": "code",
   "execution_count": null,
   "id": "XPpknFtdBUyc",
   "metadata": {
    "colab": {
     "base_uri": "https://localhost:8080/",
     "height": 504
    },
    "id": "XPpknFtdBUyc",
    "outputId": "57317899-bf4e-4ff3-bd8e-55e683103182"
   },
   "outputs": [],
   "source": [
    "# Evaluate the model\n",
    "pd.DataFrame(history.history).plot(\n",
    "    figsize=(8,5),\n",
    "    xlim=[0,29],\n",
    "    ylim=[0,1],\n",
    "    grid=True,\n",
    "    xlabel=\"Epoch\",\n",
    "    style=[\"r--\", \"r--.\", \"b-\", \"b-*\"]\n",
    ")\n",
    "plt.show()\n",
    "\n",
    "model.evaluate(X_test, y_test)"
   ]
  },
  {
   "cell_type": "markdown",
   "id": "q7ga2ND9AKln",
   "metadata": {
    "id": "q7ga2ND9AKln",
    "jp-MarkdownHeadingCollapsed": true
   },
   "source": [
    "#### TanH Activation"
   ]
  },
  {
   "cell_type": "code",
   "execution_count": null,
   "id": "ByAD7X6wDsuj",
   "metadata": {
    "id": "ByAD7X6wDsuj"
   },
   "outputs": [],
   "source": [
    "# Creating model\n",
    "model = tf.keras.Sequential([\n",
    "    tf.keras.layers.Input(shape=[28,28]),\n",
    "    tf.keras.layers.Flatten(),\n",
    "    tf.keras.layers.Dense(300, activation=\"tanh\"),\n",
    "    tf.keras.layers.Dense(100, activation=\"tanh\"),\n",
    "    tf.keras.layers.Dense(10, activation=\"tanh\")\n",
    "])\n",
    "\n",
    "# Compiling the model\n",
    "model.compile(loss=\"sparse_categorical_crossentropy\",\n",
    "             optimizer=\"sgd\",\n",
    "             metrics=[\"accuracy\"])"
   ]
  },
  {
   "cell_type": "code",
   "execution_count": null,
   "id": "pDFHIJ1tDupq",
   "metadata": {
    "id": "pDFHIJ1tDupq"
   },
   "outputs": [],
   "source": [
    "# Training the model\n",
    "history = model.fit(X_train, y_train, epochs=30, validation_data=(X_valid, y_valid))"
   ]
  },
  {
   "cell_type": "code",
   "execution_count": null,
   "id": "1yJE3gY2DwmY",
   "metadata": {
    "colab": {
     "base_uri": "https://localhost:8080/",
     "height": 504
    },
    "id": "1yJE3gY2DwmY",
    "outputId": "b5408f96-8ed8-4e0c-a42d-ce96d9145f69"
   },
   "outputs": [],
   "source": [
    "# Evaluate the model\n",
    "pd.DataFrame(history.history).plot(\n",
    "    figsize=(8,5),\n",
    "    xlim=[0,29],\n",
    "    ylim=[0,1],\n",
    "    grid=True,\n",
    "    xlabel=\"Epoch\",\n",
    "    style=[\"r--\", \"r--.\", \"b-\", \"b-*\"]\n",
    ")\n",
    "plt.show()\n",
    "\n",
    "model.evaluate(X_test, y_test)"
   ]
  },
  {
   "cell_type": "markdown",
   "id": "IuVATXNcBCxZ",
   "metadata": {
    "id": "IuVATXNcBCxZ",
    "jp-MarkdownHeadingCollapsed": true
   },
   "source": [
    "#### Exponential Activation"
   ]
  },
  {
   "cell_type": "code",
   "execution_count": null,
   "id": "3i7aJugvGRX_",
   "metadata": {
    "id": "3i7aJugvGRX_"
   },
   "outputs": [],
   "source": [
    "# Creating model\n",
    "model = tf.keras.Sequential([\n",
    "    tf.keras.layers.Input(shape=[28,28]),\n",
    "    tf.keras.layers.Flatten(),\n",
    "    tf.keras.layers.Dense(300, activation=\"exponential\"),\n",
    "    tf.keras.layers.Dense(100, activation=\"exponential\"),\n",
    "    tf.keras.layers.Dense(10, activation=\"softmax\")\n",
    "])\n",
    "\n",
    "# Compiling the model\n",
    "model.compile(loss=\"sparse_categorical_crossentropy\",\n",
    "             optimizer=\"sgd\",\n",
    "             metrics=[\"accuracy\"])"
   ]
  },
  {
   "cell_type": "code",
   "execution_count": null,
   "id": "J_vEUYHzGR-i",
   "metadata": {
    "id": "J_vEUYHzGR-i"
   },
   "outputs": [],
   "source": [
    "# Training the model\n",
    "history = model.fit(X_train, y_train, epochs=30, validation_data=(X_valid, y_valid))"
   ]
  },
  {
   "cell_type": "code",
   "execution_count": null,
   "id": "dPKvDDQcGUzi",
   "metadata": {
    "colab": {
     "base_uri": "https://localhost:8080/",
     "height": 504
    },
    "id": "dPKvDDQcGUzi",
    "outputId": "f7caa240-45d1-46c3-e831-a5fd88b97eb3"
   },
   "outputs": [],
   "source": [
    "# Evaluate the model\n",
    "pd.DataFrame(history.history).plot(\n",
    "    figsize=(8,5),\n",
    "    xlim=[0,29],\n",
    "    ylim=[0,1],\n",
    "    grid=True,\n",
    "    xlabel=\"Epoch\",\n",
    "    style=[\"r--\", \"r--.\", \"b-\", \"b-*\"]\n",
    ")\n",
    "plt.show()\n",
    "\n",
    "model.evaluate(X_test, y_test)"
   ]
  },
  {
   "cell_type": "markdown",
   "id": "8dtiEv58IS_l",
   "metadata": {
    "id": "8dtiEv58IS_l"
   },
   "source": [
    "### MLP: Different Optimizers"
   ]
  },
  {
   "cell_type": "code",
   "execution_count": null,
   "id": "91UkCEOZIabd",
   "metadata": {
    "id": "91UkCEOZIabd"
   },
   "outputs": [],
   "source": [
    "# Creating model\n",
    "model = tf.keras.Sequential([\n",
    "    tf.keras.layers.Input(shape=[28,28]),\n",
    "    tf.keras.layers.Flatten(),\n",
    "    tf.keras.layers.Dense(300, activation=\"relu\"),\n",
    "    tf.keras.layers.Dense(100, activation=\"relu\"),\n",
    "    tf.keras.layers.Dense(10, activation=\"softmax\")\n",
    "])"
   ]
  },
  {
   "cell_type": "markdown",
   "id": "mT5zg4SKJOtB",
   "metadata": {
    "id": "mT5zg4SKJOtB"
   },
   "source": [
    "#### SGD with Momentum"
   ]
  },
  {
   "cell_type": "code",
   "execution_count": null,
   "id": "VzjSecM8JHhK",
   "metadata": {
    "id": "VzjSecM8JHhK"
   },
   "outputs": [],
   "source": [
    "# Compiling the model\n",
    "optimizer = tf.keras.optimizers.SGD(momentum=0.5)\n",
    "model.compile(loss=\"sparse_categorical_crossentropy\",\n",
    "             optimizer=optimizer,\n",
    "             metrics=[\"accuracy\"])"
   ]
  },
  {
   "cell_type": "code",
   "execution_count": null,
   "id": "rZEIykDYIhHM",
   "metadata": {
    "id": "rZEIykDYIhHM",
    "scrolled": true
   },
   "outputs": [],
   "source": [
    "# Training the model\n",
    "history = model.fit(X_train, y_train, epochs=30, validation_data=(X_valid, y_valid))"
   ]
  },
  {
   "cell_type": "code",
   "execution_count": null,
   "id": "wakHc5dNIi77",
   "metadata": {
    "colab": {
     "base_uri": "https://localhost:8080/",
     "height": 504
    },
    "id": "wakHc5dNIi77",
    "outputId": "13418622-29da-4828-8280-33d6884e03bc"
   },
   "outputs": [],
   "source": [
    "# Evaluate the model\n",
    "pd.DataFrame(history.history).plot(\n",
    "    figsize=(8,5),\n",
    "    xlim=[0,29],\n",
    "    ylim=[0,1],\n",
    "    grid=True,\n",
    "    xlabel=\"Epoch\",\n",
    "    style=[\"r--\", \"r--.\", \"b-\", \"b-*\"]\n",
    ")\n",
    "plt.show()\n",
    "\n",
    "model.evaluate(X_test, y_test)"
   ]
  },
  {
   "cell_type": "markdown",
   "id": "fKxiWKUSKUFy",
   "metadata": {
    "id": "fKxiWKUSKUFy",
    "jp-MarkdownHeadingCollapsed": true
   },
   "source": [
    "#### SGD with Nesterov Momentum"
   ]
  },
  {
   "cell_type": "code",
   "execution_count": null,
   "id": "ILhRJejFKcxy",
   "metadata": {
    "id": "ILhRJejFKcxy"
   },
   "outputs": [],
   "source": [
    "# Compiling the model\n",
    "optimizer = tf.keras.optimizers.SGD(momentum=0.5, nesterov=True)\n",
    "model.compile(loss=\"sparse_categorical_crossentropy\",\n",
    "             optimizer=optimizer,\n",
    "             metrics=[\"accuracy\"])"
   ]
  },
  {
   "cell_type": "code",
   "execution_count": null,
   "id": "f19l50OXKdrF",
   "metadata": {
    "id": "f19l50OXKdrF",
    "scrolled": true
   },
   "outputs": [],
   "source": [
    "# Training the model\n",
    "history = model.fit(X_train, y_train, epochs=30, validation_data=(X_valid, y_valid))"
   ]
  },
  {
   "cell_type": "code",
   "execution_count": null,
   "id": "wsiVHLWCKgJF",
   "metadata": {
    "colab": {
     "base_uri": "https://localhost:8080/",
     "height": 504
    },
    "id": "wsiVHLWCKgJF",
    "outputId": "1612c3ac-2b36-4b23-8a23-865538aa0b2f"
   },
   "outputs": [],
   "source": [
    "# Evaluate the model\n",
    "pd.DataFrame(history.history).plot(\n",
    "    figsize=(8,5),\n",
    "    xlim=[0,29],\n",
    "    ylim=[0,1],\n",
    "    grid=True,\n",
    "    xlabel=\"Epoch\",\n",
    "    style=[\"r--\", \"r--.\", \"b-\", \"b-*\"]\n",
    ")\n",
    "plt.show()\n",
    "\n",
    "model.evaluate(X_test, y_test)"
   ]
  },
  {
   "cell_type": "markdown",
   "id": "h5ULLbaULC94",
   "metadata": {
    "id": "h5ULLbaULC94",
    "jp-MarkdownHeadingCollapsed": true
   },
   "source": [
    "#### Adam"
   ]
  },
  {
   "cell_type": "code",
   "execution_count": null,
   "id": "cowk1CeMLNHa",
   "metadata": {
    "id": "cowk1CeMLNHa"
   },
   "outputs": [],
   "source": [
    "# Compiling the model\n",
    "optimizer = tf.keras.optimizers.Adam(learning_rate=0.005)\n",
    "model.compile(loss=\"sparse_categorical_crossentropy\",\n",
    "             optimizer=optimizer,\n",
    "             metrics=[\"accuracy\"])"
   ]
  },
  {
   "cell_type": "code",
   "execution_count": null,
   "id": "iEYogAMKLS_J",
   "metadata": {
    "id": "iEYogAMKLS_J",
    "scrolled": true
   },
   "outputs": [],
   "source": [
    "# Training the model\n",
    "history = model.fit(X_train, y_train, epochs=30, validation_data=(X_valid, y_valid))"
   ]
  },
  {
   "cell_type": "code",
   "execution_count": null,
   "id": "E6vOq0sKLU9N",
   "metadata": {
    "colab": {
     "base_uri": "https://localhost:8080/",
     "height": 504
    },
    "id": "E6vOq0sKLU9N",
    "outputId": "2f78142b-202d-4085-a488-ac8c1b59b5c6"
   },
   "outputs": [],
   "source": [
    "# Evaluate the model\n",
    "pd.DataFrame(history.history).plot(\n",
    "    figsize=(8,5),\n",
    "    xlim=[0,29],\n",
    "    ylim=[0,1],\n",
    "    grid=True,\n",
    "    xlabel=\"Epoch\",\n",
    "    style=[\"r--\", \"r--.\", \"b-\", \"b-*\"]\n",
    ")\n",
    "plt.show()\n",
    "\n",
    "model.evaluate(X_test, y_test)"
   ]
  },
  {
   "cell_type": "markdown",
   "id": "a981c4ed-f8c1-4ccf-b910-1a81c32ab300",
   "metadata": {
    "jp-MarkdownHeadingCollapsed": true
   },
   "source": [
    "### MLP: Different Regularizers"
   ]
  },
  {
   "cell_type": "markdown",
   "id": "a0b4e6fd-4b29-4f58-bd04-76ab31bc3755",
   "metadata": {},
   "source": [
    "#### L1 Regularization"
   ]
  },
  {
   "cell_type": "code",
   "execution_count": null,
   "id": "33fae311-4306-4945-a4d2-80fda5782cb0",
   "metadata": {},
   "outputs": [],
   "source": [
    "model = tf.keras.Sequential([\n",
    "    tf.keras.layers.Input(shape=[28,28]),\n",
    "    tf.keras.layers.Flatten(),\n",
    "    tf.keras.layers.Dense(300, activation=\"relu\", kernel_regularizer='l1'),\n",
    "    tf.keras.layers.Dense(100, activation=\"relu\", kernel_regularizer='l1'),\n",
    "    tf.keras.layers.Dense(10, activation=\"softmax\")\n",
    "])"
   ]
  },
  {
   "cell_type": "code",
   "execution_count": null,
   "id": "4b95eb3d-0c8e-478f-bf7a-7f33d2eff613",
   "metadata": {},
   "outputs": [],
   "source": [
    "model.compile(loss=\"sparse_categorical_crossentropy\",\n",
    "             optimizer=\"sgd\",\n",
    "             metrics=[\"accuracy\"])"
   ]
  },
  {
   "cell_type": "code",
   "execution_count": null,
   "id": "6fa4a997-8c23-464a-9f9e-f9f042f4c5a7",
   "metadata": {},
   "outputs": [],
   "source": [
    "history = model.fit(X_train, y_train, epochs=30, validation_data=(X_valid, y_valid))"
   ]
  },
  {
   "cell_type": "code",
   "execution_count": null,
   "id": "f229d258-cab0-42f5-b0a9-daf1992d4c16",
   "metadata": {},
   "outputs": [],
   "source": [
    "pd.DataFrame(history.history).plot(\n",
    "    figsize=(8,5),\n",
    "    xlim=[0,29],\n",
    "    ylim=[0,1],\n",
    "    grid=True,\n",
    "    xlabel=\"Epoch\",\n",
    "    style=[\"r--\", \"r--.\", \"b-\", \"b-*\"]\n",
    ")\n",
    "plt.show()\n",
    "\n",
    "model.evaluate(X_test, y_test)"
   ]
  },
  {
   "cell_type": "markdown",
   "id": "1ab67a94-191c-4eb4-8d27-235207505112",
   "metadata": {},
   "source": [
    "#### L2 Regularization"
   ]
  },
  {
   "cell_type": "code",
   "execution_count": null,
   "id": "d62b64e3-f06e-4e04-a5cd-59bbc20e76d4",
   "metadata": {},
   "outputs": [],
   "source": [
    "model = tf.keras.Sequential([\n",
    "    tf.keras.layers.Input(shape=[28,28]),\n",
    "    tf.keras.layers.Flatten(),\n",
    "    tf.keras.layers.Dense(300, activation=\"relu\", kernel_regularizer='l2'),\n",
    "    tf.keras.layers.Dense(100, activation=\"relu\", kernel_regularizer='l2'),\n",
    "    tf.keras.layers.Dense(10, activation=\"softmax\")\n",
    "])"
   ]
  },
  {
   "cell_type": "code",
   "execution_count": null,
   "id": "01610d47-f093-4592-a8ae-ec200267588f",
   "metadata": {},
   "outputs": [],
   "source": [
    "model.compile(loss=\"sparse_categorical_crossentropy\",\n",
    "             optimizer=\"sgd\",\n",
    "             metrics=[\"accuracy\"])"
   ]
  },
  {
   "cell_type": "code",
   "execution_count": null,
   "id": "c25a4c39-63d7-464c-a9c0-a609400c5262",
   "metadata": {},
   "outputs": [],
   "source": [
    "history = model.fit(X_train, y_train, epochs=30, validation_data=(X_valid, y_valid))"
   ]
  },
  {
   "cell_type": "code",
   "execution_count": null,
   "id": "bfb9e129-8b01-4020-ae26-ff1f6534d2b5",
   "metadata": {
    "jupyter": {
     "source_hidden": true
    }
   },
   "outputs": [],
   "source": [
    "pd.DataFrame(history.history).plot(\n",
    "    figsize=(8,5),\n",
    "    xlim=[0,29],\n",
    "    ylim=[0,1],\n",
    "    grid=True,\n",
    "    xlabel=\"Epoch\",\n",
    "    style=[\"r--\", \"r--.\", \"b-\", \"b-*\"]\n",
    ")\n",
    "plt.show()\n",
    "\n",
    "model.evaluate(X_test, y_test)"
   ]
  },
  {
   "cell_type": "markdown",
   "id": "62daa7f4-f5d7-466c-9498-2fced5f8cca4",
   "metadata": {},
   "source": [
    "#### Dropout Regularization"
   ]
  },
  {
   "cell_type": "markdown",
   "id": "9d81a643-5b95-4e9a-870f-8d0d6a52d8ef",
   "metadata": {},
   "source": [
    "Setting a dropout rate of 20% for both visible and hidden layers"
   ]
  },
  {
   "cell_type": "code",
   "execution_count": null,
   "id": "fd186ea5-39b3-4c28-b7a4-62d6d0ae4bdb",
   "metadata": {},
   "outputs": [],
   "source": [
    "model = tf.keras.Sequential([\n",
    "    tf.keras.layers.Input(shape=[28,28]),\n",
    "    tf.keras.layers.Flatten(),\n",
    "    tf.keras.layers.Dropout(0.2),\n",
    "    tf.keras.layers.Dense(300, activation=\"relu\"),\n",
    "    tf.keras.layers.Dropout(0.2),\n",
    "    tf.keras.layers.Dense(100, activation=\"relu\"),\n",
    "    tf.keras.layers.Dropout(0.2),\n",
    "    tf.keras.layers.Dense(10, activation=\"softmax\")\n",
    "])"
   ]
  },
  {
   "cell_type": "code",
   "execution_count": null,
   "id": "1f293439-501b-4d79-a3b8-dac525b9c418",
   "metadata": {},
   "outputs": [],
   "source": [
    "model.compile(loss=\"sparse_categorical_crossentropy\",\n",
    "             optimizer=\"sgd\",\n",
    "             metrics=[\"accuracy\"])"
   ]
  },
  {
   "cell_type": "code",
   "execution_count": null,
   "id": "f1299173-f5c2-4220-bb47-9d17f334bebb",
   "metadata": {
    "scrolled": true
   },
   "outputs": [],
   "source": [
    "history = model.fit(X_train, y_train, epochs=30, validation_data=(X_valid, y_valid))"
   ]
  },
  {
   "cell_type": "code",
   "execution_count": null,
   "id": "f44b85b1-0ea1-44a9-8893-601b74d60500",
   "metadata": {},
   "outputs": [],
   "source": [
    "pd.DataFrame(history.history).plot(\n",
    "    figsize=(8,5),\n",
    "    xlim=[0,29],\n",
    "    ylim=[0,1],\n",
    "    grid=True,\n",
    "    xlabel=\"Epoch\",\n",
    "    style=[\"r--\", \"r--.\", \"b-\", \"b-*\"]\n",
    ")\n",
    "plt.show()\n",
    "\n",
    "model.evaluate(X_test, y_test)"
   ]
  },
  {
   "cell_type": "markdown",
   "id": "dd2f1137-e93e-481e-b410-7828032bef39",
   "metadata": {},
   "source": [
    "Setting a dropout rate of 50% for hidden layers, and 10% for visible layers"
   ]
  },
  {
   "cell_type": "code",
   "execution_count": 10,
   "id": "8a3702b1-7284-47c8-bc1c-482524a276e4",
   "metadata": {},
   "outputs": [],
   "source": [
    "model = tf.keras.Sequential([\n",
    "    tf.keras.layers.Input(shape=[28,28]),\n",
    "    tf.keras.layers.Flatten(),\n",
    "    tf.keras.layers.Dropout(0.1),\n",
    "    tf.keras.layers.Dense(300, activation=\"relu\"),\n",
    "    tf.keras.layers.Dropout(0.5),\n",
    "    tf.keras.layers.Dense(100, activation=\"relu\"),\n",
    "    tf.keras.layers.Dropout(0.5),\n",
    "    tf.keras.layers.Dense(10, activation=\"softmax\")\n",
    "])"
   ]
  },
  {
   "cell_type": "code",
   "execution_count": 11,
   "id": "1bc9f90f-918d-46a5-873b-969eb50eca3d",
   "metadata": {},
   "outputs": [],
   "source": [
    "model.compile(loss=\"sparse_categorical_crossentropy\",\n",
    "             optimizer=\"sgd\",\n",
    "             metrics=[\"accuracy\"])"
   ]
  },
  {
   "cell_type": "code",
   "execution_count": null,
   "id": "37a52475-4fc1-4e3d-b7dc-f2511702e7c1",
   "metadata": {
    "scrolled": true
   },
   "outputs": [],
   "source": [
    "history = model.fit(X_train, y_train, epochs=30, validation_data=(X_valid, y_valid))"
   ]
  },
  {
   "cell_type": "code",
   "execution_count": null,
   "id": "e5f56456-42c4-4ebd-a795-3f1ced835aaa",
   "metadata": {},
   "outputs": [],
   "source": [
    "pd.DataFrame(history.history).plot(\n",
    "    figsize=(8,5),\n",
    "    xlim=[0,29],\n",
    "    ylim=[0,1],\n",
    "    grid=True,\n",
    "    xlabel=\"Epoch\",\n",
    "    style=[\"r--\", \"r--.\", \"b-\", \"b-*\"]\n",
    ")\n",
    "plt.show()\n",
    "\n",
    "model.evaluate(X_test, y_test)"
   ]
  },
  {
   "cell_type": "markdown",
   "id": "94255093-1a3a-496e-99ba-a14dd0b3a5a3",
   "metadata": {},
   "source": [
    "### MLP: Hyperparameter Tuning"
   ]
  },
  {
   "cell_type": "code",
   "execution_count": null,
   "id": "fab57a81-2d6c-4752-846c-893a5badba20",
   "metadata": {},
   "outputs": [],
   "source": []
  }
 ],
 "metadata": {
  "accelerator": "GPU",
  "colab": {
   "collapsed_sections": [
    "4f1f0ac6-e718-4485-8dcd-92b1de06cb95",
    "866cae2d-541f-44f8-b6eb-edf4d841db01",
    "XJnjy56T6DpB",
    "z6ZyZq8Q5YiV",
    "Rp2opXUF_eKX",
    "6YJ4VEU4AGH1",
    "q7ga2ND9AKln",
    "IuVATXNcBCxZ",
    "mT5zg4SKJOtB",
    "fKxiWKUSKUFy"
   ],
   "provenance": [],
   "toc_visible": true
  },
  "kernelspec": {
   "display_name": "Python 3 (ipykernel)",
   "language": "python",
   "name": "python3"
  },
  "language_info": {
   "codemirror_mode": {
    "name": "ipython",
    "version": 3
   },
   "file_extension": ".py",
   "mimetype": "text/x-python",
   "name": "python",
   "nbconvert_exporter": "python",
   "pygments_lexer": "ipython3",
   "version": "3.10.12"
  }
 },
 "nbformat": 4,
 "nbformat_minor": 5
}
