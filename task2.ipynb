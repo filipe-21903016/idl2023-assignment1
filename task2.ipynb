{
 "cells": [
  {
   "cell_type": "markdown",
   "id": "2ec911cf-5688-47e2-8fd5-85a4815bec7b",
   "metadata": {},
   "source": [
    "# Task 2"
   ]
  },
  {
   "cell_type": "markdown",
   "id": "a8348218-70a3-4503-a085-9fbc3d279188",
   "metadata": {},
   "source": [
    "## Objectives\n",
    "\n",
    "Develop and train a CNN to tell the time from images of clocks.\n",
    "\n",
    "The training set consists of 18000 grayscale 150x150 images.\n",
    "The labels for each sample are represented by two integers 18000x2. That correspond to the hour and minute displayed by the clock.\n",
    "\n",
    "The model should be created using these different solutions:\n",
    "\n",
    "- Regression\n",
    "- Classification\n",
    "- Multi-head outputs\n",
    "- Label transformation (optional)"
   ]
  },
  {
   "cell_type": "code",
   "execution_count": 45,
   "id": "652fc682-5ee5-477d-99c5-4c9fb8946f81",
   "metadata": {},
   "outputs": [],
   "source": [
    "import numpy as np\n",
    "import tensorflow as tf\n",
    "from sympy import cos, sin, pi\n",
    "from pathlib import Path\n",
    "from time import strftime\n",
    "\n",
    "np.random.seed(42)"
   ]
  },
  {
   "cell_type": "code",
   "execution_count": 39,
   "id": "2bef1119-79ad-4c0d-afaa-ba8e245b19d9",
   "metadata": {},
   "outputs": [],
   "source": [
    "# Setup tensorboard directory\n",
    "def get_run_logdir(root_logdir=\"logs\"):\n",
    "    return Path(root_logdir) / strftime(\"run_%Y_%m_%d_%H_%M_%S\")\n",
    "\n",
    "run_logdir = get_run_logdir()"
   ]
  },
  {
   "cell_type": "code",
   "execution_count": 40,
   "id": "e02fa8aa-05d7-4086-8ec2-bf25f0adeae5",
   "metadata": {},
   "outputs": [],
   "source": [
    "X = np.load(\"./data/tell-the-time/images.npy\")\n",
    "y = np.load(\"./data/tell-the-time/labels.npy\")"
   ]
  },
  {
   "cell_type": "code",
   "execution_count": 41,
   "id": "27302615-6613-4f5b-b840-131e36d4eee5",
   "metadata": {},
   "outputs": [],
   "source": [
    "size = y.shape[0]\n",
    "train_size = int(0.8 * size)\n",
    "X_train, y_train = X[:train_size,:], y[:train_size,:]\n",
    "X_test, y_test = X[train_size:,:], y[train_size:, :]"
   ]
  },
  {
   "cell_type": "markdown",
   "id": "c33d6a33-47a6-4dd3-89da-eb4c42feeae2",
   "metadata": {},
   "source": [
    "## Approaches"
   ]
  },
  {
   "cell_type": "markdown",
   "id": "67430ded-d79f-4194-8d6b-462c8e12999e",
   "metadata": {},
   "source": [
    "### Regression Model"
   ]
  },
  {
   "cell_type": "markdown",
   "id": "84781625-4531-4053-a596-b4e18bcd04c1",
   "metadata": {},
   "source": [
    "#### Preprocess data"
   ]
  },
  {
   "cell_type": "code",
   "execution_count": 42,
   "id": "c7fa5353-939f-4dbc-9b08-bf314f6d1860",
   "metadata": {},
   "outputs": [],
   "source": [
    "def preprocess_labels_regression(y):\n",
    "    labels = [float(y_[0] + y_[1] / 60.0) for y_ in y]\n",
    "    return np.array(labels)"
   ]
  },
  {
   "cell_type": "code",
   "execution_count": 43,
   "id": "bda37cd4-82fc-4361-9bb2-15067865809c",
   "metadata": {},
   "outputs": [],
   "source": [
    "y_train_regression = preprocess_labels_regression(y_train)\n",
    "y_test_regression = preprocess_labels_regression(y_test)"
   ]
  },
  {
   "cell_type": "code",
   "execution_count": 49,
   "id": "03c3c562-84e3-4a6d-afb6-27435fe1a6b8",
   "metadata": {},
   "outputs": [],
   "source": [
    "# Create model\n",
    "regression_model = tf.keras.Sequential([\n",
    "    tf.keras.layers.Input(shape=(150,150,1)),\n",
    "    tf.keras.layers.Normalization(),\n",
    "    tf.keras.layers.Conv2D(filters=64, kernel_size=(3,3), padding=\"same\", activation='relu'),\n",
    "    tf.keras.layers.Conv2D(filters=64, kernel_size=(3,3), padding=\"same\", activation='relu'),\n",
    "    tf.keras.layers.MaxPooling2D(pool_size=(2, 2), strides=(2,2)),\n",
    "    tf.keras.layers.Conv2D(filters=128, kernel_size=(3,3), padding=\"same\", activation='relu'),\n",
    "    tf.keras.layers.Conv2D(filters=128, kernel_size=(3,3), padding=\"same\", activation='relu'),\n",
    "    tf.keras.layers.MaxPooling2D(pool_size=(3, 3), strides=(2,2)),\n",
    "    tf.keras.layers.MaxPooling2D(pool_size=(2, 2), strides=(2,2)),\n",
    "    tf.keras.layers.Conv2D(filters=256, kernel_size=(3,3), padding=\"same\", activation='relu'),\n",
    "    tf.keras.layers.Conv2D(filters=256, kernel_size=(3,3), padding=\"same\", activation='relu'),\n",
    "    tf.keras.layers.Conv2D(filters=256, kernel_size=(3,3), padding=\"same\", activation='relu'),\n",
    "    tf.keras.layers.MaxPooling2D(pool_size=(2, 2)),\n",
    "    tf.keras.layers.Conv2D(filters=512, kernel_size=(3,3), padding=\"same\", activation='relu'),\n",
    "    tf.keras.layers.Conv2D(filters=512, kernel_size=(3,3), padding=\"same\", activation='relu'),\n",
    "    tf.keras.layers.Conv2D(filters=512, kernel_size=(3,3), padding=\"same\", activation='relu'),\n",
    "    tf.keras.layers.MaxPooling2D(pool_size=(2, 2)),\n",
    "    tf.keras.layers.Conv2D(filters=512, kernel_size=(3,3), padding=\"same\", activation='relu'),\n",
    "    tf.keras.layers.Conv2D(filters=512, kernel_size=(3,3), padding=\"same\", activation='relu'),\n",
    "    tf.keras.layers.Conv2D(filters=512, kernel_size=(3,3), padding=\"same\", activation='relu'),\n",
    "    tf.keras.layers.MaxPooling2D(pool_size=(2, 2)),\n",
    "    tf.keras.layers.Flatten(),\n",
    "    tf.keras.layers.Dense(4096, activation='relu', \n",
    "                          kernel_regularizer=tf.keras.regularizers.L2(5e-4), \n",
    "                          kernel_initializer= tf.keras.initializers.GlorotNormal()),\n",
    "    tf.keras.layers.Dropout(0.5),\n",
    "    tf.keras.layers.Dense(4096, activation='relu',\n",
    "                          kernel_regularizer=tf.keras.regularizers.L2(5e-4),\n",
    "                          kernel_initializer= tf.keras.initializers.GlorotNormal()),\n",
    "    tf.keras.layers.Dropout(0.5),\n",
    "    tf.keras.layers.Dense(4096, activation='relu'),\n",
    "    tf.keras.layers.Dense(1, activation='linear')\n",
    "], name=\"ttt-vgg16-regressor\")"
   ]
  },
  {
   "cell_type": "code",
   "execution_count": 50,
   "id": "5f4102ff-f552-428f-8072-67eeb4468526",
   "metadata": {},
   "outputs": [],
   "source": [
    "# Compile the model\n",
    "sdg_momentum = tf.keras.optimizers.SGD(momentum=0.9, learning_rate=0.01)\n",
    "regression_model.compile(optimizer='adam', loss='mse', metrics=[\"RootMeanSquaredError\"])"
   ]
  },
  {
   "cell_type": "code",
   "execution_count": null,
   "id": "6541fd26-bc3a-460d-a592-419ee1123c51",
   "metadata": {},
   "outputs": [],
   "source": [
    "checkpoints_cb = tf.keras.callbacks.ModelCheckpoint('./checkpoints/ttt-vgg16-regressor/checkpoint', \n",
    "                                                    save_best_only=True, \n",
    "                                                    save_weights_only=True)\n",
    "\n",
    "early_stopping_cb = tf.keras.callbacks.EarlyStopping(patience=10, restore_best_weights=True)\n",
    "\n",
    "reduce_lr = tf.keras.callbacks.ReduceLROnPlateau(monitor=\"val_root_mean_squared_error\", factor=0.1)\n",
    "\n",
    "history = regression_model.fit(X_train, y_train_regression, epochs=50, callbacks=[reduce_lr, checkpoints_cb], validation_split=0.1)"
   ]
  },
  {
   "cell_type": "code",
   "execution_count": 54,
   "id": "50077fa3-95a1-449f-8c26-df3565f26aae",
   "metadata": {},
   "outputs": [
    {
     "name": "stderr",
     "output_type": "stream",
     "text": [
      "2023-10-16 00:01:39.712063: I tensorflow/core/grappler/optimizers/custom_graph_optimizer_registry.cc:113] Plugin optimizer for device_type GPU is enabled.\n"
     ]
    },
    {
     "name": "stdout",
     "output_type": "stream",
     "text": [
      "113/113 [==============================] - 12s 84ms/step - loss: 60.4091 - root_mean_squared_error: 7.7083\n"
     ]
    },
    {
     "data": {
      "text/plain": [
       "[60.409095764160156, 7.708273887634277]"
      ]
     },
     "execution_count": 54,
     "metadata": {},
     "output_type": "execute_result"
    }
   ],
   "source": [
    "regression_model.evaluate(X_test, y_test_regression)"
   ]
  },
  {
   "cell_type": "code",
   "execution_count": 55,
   "id": "744f8d5a-e591-41ee-82fb-3156a40e4554",
   "metadata": {},
   "outputs": [
    {
     "name": "stderr",
     "output_type": "stream",
     "text": [
      "WARNING:absl:Found untraced functions such as _jit_compiled_convolution_op, _jit_compiled_convolution_op, _jit_compiled_convolution_op, _jit_compiled_convolution_op, _jit_compiled_convolution_op while saving (showing 5 of 13). These functions will not be directly callable after loading.\n"
     ]
    },
    {
     "name": "stdout",
     "output_type": "stream",
     "text": [
      "INFO:tensorflow:Assets written to: ./models/ttt-vgg16-regressor/assets\n"
     ]
    },
    {
     "name": "stderr",
     "output_type": "stream",
     "text": [
      "INFO:tensorflow:Assets written to: ./models/ttt-vgg16-regressor/assets\n"
     ]
    }
   ],
   "source": [
    "regression_model.save(\"./models/ttt-vgg16-regressor\", save_format='tf')"
   ]
  },
  {
   "cell_type": "markdown",
   "id": "b874bb35-609e-40e1-821c-d3ede4d6fcb4",
   "metadata": {
    "jp-MarkdownHeadingCollapsed": true
   },
   "source": [
    "### Classification Model"
   ]
  },
  {
   "cell_type": "code",
   "execution_count": null,
   "id": "b4700af4-cfe9-4ffa-bcdf-1e553d4cb463",
   "metadata": {},
   "outputs": [],
   "source": []
  },
  {
   "cell_type": "markdown",
   "id": "6e7abdbd-5bff-46b0-b320-9fbd4a0d3ce7",
   "metadata": {},
   "source": [
    "### Multi-head Model"
   ]
  },
  {
   "cell_type": "markdown",
   "id": "2b73155f-973f-4f1d-97ee-e775f659627b",
   "metadata": {},
   "source": [
    "### Label Transformation"
   ]
  },
  {
   "cell_type": "code",
   "execution_count": 10,
   "id": "2212c785-098c-4a86-a5bc-3f85de240c12",
   "metadata": {},
   "outputs": [],
   "source": [
    "def encode_min(minute):\n",
    "    angle = pi/2  - ((pi / 30) * minute)\n",
    "    return np.array([float(cos(angle)), float(sin(angle))])"
   ]
  },
  {
   "cell_type": "code",
   "execution_count": 11,
   "id": "648c36d6-f397-44ec-9ad1-57d6024d0be7",
   "metadata": {},
   "outputs": [],
   "source": [
    "def encode_hour(hour):\n",
    "    angle = pi/2  - ((pi / 6) * hour)\n",
    "    return np.array([float(cos(angle)), float(sin(angle))])"
   ]
  },
  {
   "cell_type": "code",
   "execution_count": 12,
   "id": "03605c4c-ab72-439c-a502-5be826686978",
   "metadata": {},
   "outputs": [],
   "source": [
    "minute_angles = np.array([encode_min(min) for min in range(1, 61)])\n",
    "hour_angles = np.array([encode_hour(hour) for hour in range(0, 12)])"
   ]
  },
  {
   "cell_type": "code",
   "execution_count": 13,
   "id": "c00fba79-4dc8-4253-ac22-fb1d5d8abec6",
   "metadata": {},
   "outputs": [],
   "source": [
    "def decode_hour(cosX, sinX):\n",
    "    x = np.array([cosX, sinX])\n",
    "    distances = [np.square(angle[0] - x[0]) + np.square(angle[1] - x[1]) for angle in hour_angles]\n",
    "    return np.argmin(distances)"
   ]
  },
  {
   "cell_type": "code",
   "execution_count": 14,
   "id": "2249d776-a1c3-4489-90c5-75a97aa25bc6",
   "metadata": {},
   "outputs": [],
   "source": [
    "def decode_min(cosX, sinX):\n",
    "    x = np.array([cosX, sinX])\n",
    "    distances = [np.square(angle[0] - x[0]) + np.square(angle[1] - x[1]) for angle in minute_angles]\n",
    "    return np.argmin(distances)"
   ]
  },
  {
   "cell_type": "code",
   "execution_count": 15,
   "id": "9df895f4-b513-48a6-82cd-e0c86bf8fd87",
   "metadata": {},
   "outputs": [],
   "source": [
    "encoded_hours = np.array([encode_hour(hour) for hour in y[:,0]])\n",
    "encoded_minutes = np.array([encode_min(minute) for minute in y[:,1]])"
   ]
  },
  {
   "cell_type": "code",
   "execution_count": 16,
   "id": "8b6bc595-6091-47af-99f5-f3bede9c9b3b",
   "metadata": {},
   "outputs": [],
   "source": [
    "y = np.hstack((encoded_hours, encoded_minutes))"
   ]
  }
 ],
 "metadata": {
  "kernelspec": {
   "display_name": "Python 3 (ipykernel)",
   "language": "python",
   "name": "python3"
  },
  "language_info": {
   "codemirror_mode": {
    "name": "ipython",
    "version": 3
   },
   "file_extension": ".py",
   "mimetype": "text/x-python",
   "name": "python",
   "nbconvert_exporter": "python",
   "pygments_lexer": "ipython3",
   "version": "3.10.12"
  }
 },
 "nbformat": 4,
 "nbformat_minor": 5
}
